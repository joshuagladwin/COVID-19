{
 "cells": [
  {
   "cell_type": "markdown",
   "metadata": {},
   "source": [
    "# Examing Data from COVID-19 Outbreak"
   ]
  },
  {
   "cell_type": "markdown",
   "metadata": {},
   "source": [
    "#### Import Libraries"
   ]
  },
  {
   "cell_type": "code",
   "execution_count": 1,
   "metadata": {},
   "outputs": [],
   "source": [
    "import pandas as pd\n",
    "from datetime import date, timedelta\n",
    "import xlrd\n",
    "import numpy as np\n",
    "import matplotlib.pyplot as plt\n",
    "import matplotlib.dates as mdates"
   ]
  },
  {
   "cell_type": "markdown",
   "metadata": {},
   "source": [
    "#### Import Latest XLS from ECDC website"
   ]
  },
  {
   "cell_type": "code",
   "execution_count": 4,
   "metadata": {},
   "outputs": [],
   "source": [
    "today = date(2020, 3, 24)"
   ]
  },
  {
   "cell_type": "code",
   "execution_count": 5,
   "metadata": {},
   "outputs": [],
   "source": [
    "day = today.strftime(\"%d\")\n",
    "month = today.strftime(\"%m\")"
   ]
  },
  {
   "cell_type": "code",
   "execution_count": 6,
   "metadata": {},
   "outputs": [],
   "source": [
    "url  = \"https://www.ecdc.europa.eu/sites/default/files/documents/COVID-19-geographic-disbtribution-worldwide-2020-{}-{}.xlsx\".format(month, day)"
   ]
  },
  {
   "cell_type": "code",
   "execution_count": 7,
   "metadata": {},
   "outputs": [
    {
     "data": {
      "text/plain": [
       "'https://www.ecdc.europa.eu/sites/default/files/documents/COVID-19-geographic-disbtribution-worldwide-2020-03-24.xlsx'"
      ]
     },
     "execution_count": 7,
     "metadata": {},
     "output_type": "execute_result"
    }
   ],
   "source": [
    "url"
   ]
  },
  {
   "cell_type": "markdown",
   "metadata": {},
   "source": [
    "#### Load into DataFrame"
   ]
  },
  {
   "cell_type": "code",
   "execution_count": 8,
   "metadata": {},
   "outputs": [],
   "source": [
    "df = pd.read_excel(url)"
   ]
  },
  {
   "cell_type": "code",
   "execution_count": 9,
   "metadata": {},
   "outputs": [
    {
     "data": {
      "text/html": [
       "<div>\n",
       "<style scoped>\n",
       "    .dataframe tbody tr th:only-of-type {\n",
       "        vertical-align: middle;\n",
       "    }\n",
       "\n",
       "    .dataframe tbody tr th {\n",
       "        vertical-align: top;\n",
       "    }\n",
       "\n",
       "    .dataframe thead th {\n",
       "        text-align: right;\n",
       "    }\n",
       "</style>\n",
       "<table border=\"1\" class=\"dataframe\">\n",
       "  <thead>\n",
       "    <tr style=\"text-align: right;\">\n",
       "      <th></th>\n",
       "      <th>DateRep</th>\n",
       "      <th>Day</th>\n",
       "      <th>Month</th>\n",
       "      <th>Year</th>\n",
       "      <th>Cases</th>\n",
       "      <th>Deaths</th>\n",
       "      <th>Countries and territories</th>\n",
       "      <th>GeoId</th>\n",
       "    </tr>\n",
       "  </thead>\n",
       "  <tbody>\n",
       "    <tr>\n",
       "      <th>0</th>\n",
       "      <td>2020-03-24</td>\n",
       "      <td>24</td>\n",
       "      <td>3</td>\n",
       "      <td>2020</td>\n",
       "      <td>6</td>\n",
       "      <td>1</td>\n",
       "      <td>Afghanistan</td>\n",
       "      <td>AF</td>\n",
       "    </tr>\n",
       "    <tr>\n",
       "      <th>1</th>\n",
       "      <td>2020-03-23</td>\n",
       "      <td>23</td>\n",
       "      <td>3</td>\n",
       "      <td>2020</td>\n",
       "      <td>10</td>\n",
       "      <td>0</td>\n",
       "      <td>Afghanistan</td>\n",
       "      <td>AF</td>\n",
       "    </tr>\n",
       "    <tr>\n",
       "      <th>2</th>\n",
       "      <td>2020-03-22</td>\n",
       "      <td>22</td>\n",
       "      <td>3</td>\n",
       "      <td>2020</td>\n",
       "      <td>0</td>\n",
       "      <td>0</td>\n",
       "      <td>Afghanistan</td>\n",
       "      <td>AF</td>\n",
       "    </tr>\n",
       "    <tr>\n",
       "      <th>3</th>\n",
       "      <td>2020-03-21</td>\n",
       "      <td>21</td>\n",
       "      <td>3</td>\n",
       "      <td>2020</td>\n",
       "      <td>2</td>\n",
       "      <td>0</td>\n",
       "      <td>Afghanistan</td>\n",
       "      <td>AF</td>\n",
       "    </tr>\n",
       "    <tr>\n",
       "      <th>4</th>\n",
       "      <td>2020-03-20</td>\n",
       "      <td>20</td>\n",
       "      <td>3</td>\n",
       "      <td>2020</td>\n",
       "      <td>0</td>\n",
       "      <td>0</td>\n",
       "      <td>Afghanistan</td>\n",
       "      <td>AF</td>\n",
       "    </tr>\n",
       "    <tr>\n",
       "      <th>...</th>\n",
       "      <td>...</td>\n",
       "      <td>...</td>\n",
       "      <td>...</td>\n",
       "      <td>...</td>\n",
       "      <td>...</td>\n",
       "      <td>...</td>\n",
       "      <td>...</td>\n",
       "      <td>...</td>\n",
       "    </tr>\n",
       "    <tr>\n",
       "      <th>6546</th>\n",
       "      <td>2020-03-19</td>\n",
       "      <td>19</td>\n",
       "      <td>3</td>\n",
       "      <td>2020</td>\n",
       "      <td>2</td>\n",
       "      <td>0</td>\n",
       "      <td>Zambia</td>\n",
       "      <td>ZM</td>\n",
       "    </tr>\n",
       "    <tr>\n",
       "      <th>6547</th>\n",
       "      <td>2020-03-24</td>\n",
       "      <td>24</td>\n",
       "      <td>3</td>\n",
       "      <td>2020</td>\n",
       "      <td>0</td>\n",
       "      <td>1</td>\n",
       "      <td>Zimbabwe</td>\n",
       "      <td>ZW</td>\n",
       "    </tr>\n",
       "    <tr>\n",
       "      <th>6548</th>\n",
       "      <td>2020-03-23</td>\n",
       "      <td>23</td>\n",
       "      <td>3</td>\n",
       "      <td>2020</td>\n",
       "      <td>0</td>\n",
       "      <td>0</td>\n",
       "      <td>Zimbabwe</td>\n",
       "      <td>ZW</td>\n",
       "    </tr>\n",
       "    <tr>\n",
       "      <th>6549</th>\n",
       "      <td>2020-03-22</td>\n",
       "      <td>22</td>\n",
       "      <td>3</td>\n",
       "      <td>2020</td>\n",
       "      <td>1</td>\n",
       "      <td>0</td>\n",
       "      <td>Zimbabwe</td>\n",
       "      <td>ZW</td>\n",
       "    </tr>\n",
       "    <tr>\n",
       "      <th>6550</th>\n",
       "      <td>2020-03-21</td>\n",
       "      <td>21</td>\n",
       "      <td>3</td>\n",
       "      <td>2020</td>\n",
       "      <td>1</td>\n",
       "      <td>0</td>\n",
       "      <td>Zimbabwe</td>\n",
       "      <td>ZW</td>\n",
       "    </tr>\n",
       "  </tbody>\n",
       "</table>\n",
       "<p>6551 rows × 8 columns</p>\n",
       "</div>"
      ],
      "text/plain": [
       "        DateRep  Day  Month  Year  Cases  Deaths Countries and territories  \\\n",
       "0    2020-03-24   24      3  2020      6       1               Afghanistan   \n",
       "1    2020-03-23   23      3  2020     10       0               Afghanistan   \n",
       "2    2020-03-22   22      3  2020      0       0               Afghanistan   \n",
       "3    2020-03-21   21      3  2020      2       0               Afghanistan   \n",
       "4    2020-03-20   20      3  2020      0       0               Afghanistan   \n",
       "...         ...  ...    ...   ...    ...     ...                       ...   \n",
       "6546 2020-03-19   19      3  2020      2       0                    Zambia   \n",
       "6547 2020-03-24   24      3  2020      0       1                  Zimbabwe   \n",
       "6548 2020-03-23   23      3  2020      0       0                  Zimbabwe   \n",
       "6549 2020-03-22   22      3  2020      1       0                  Zimbabwe   \n",
       "6550 2020-03-21   21      3  2020      1       0                  Zimbabwe   \n",
       "\n",
       "     GeoId  \n",
       "0       AF  \n",
       "1       AF  \n",
       "2       AF  \n",
       "3       AF  \n",
       "4       AF  \n",
       "...    ...  \n",
       "6546    ZM  \n",
       "6547    ZW  \n",
       "6548    ZW  \n",
       "6549    ZW  \n",
       "6550    ZW  \n",
       "\n",
       "[6551 rows x 8 columns]"
      ]
     },
     "execution_count": 9,
     "metadata": {},
     "output_type": "execute_result"
    }
   ],
   "source": [
    "df"
   ]
  },
  {
   "cell_type": "markdown",
   "metadata": {},
   "source": [
    "#### Fix Date format from Excel to DateTime"
   ]
  },
  {
   "cell_type": "code",
   "execution_count": 10,
   "metadata": {},
   "outputs": [],
   "source": [
    "#def read_date(date):\n",
    "#    return xlrd.xldate.xldate_as_datetime(date, 0)"
   ]
  },
  {
   "cell_type": "code",
   "execution_count": 11,
   "metadata": {},
   "outputs": [],
   "source": [
    "#df['DateRep'] = pd.to_datetime(df['DateRep'].apply(read_date), errors='coerce')"
   ]
  },
  {
   "cell_type": "code",
   "execution_count": 12,
   "metadata": {
    "scrolled": false
   },
   "outputs": [
    {
     "data": {
      "text/html": [
       "<div>\n",
       "<style scoped>\n",
       "    .dataframe tbody tr th:only-of-type {\n",
       "        vertical-align: middle;\n",
       "    }\n",
       "\n",
       "    .dataframe tbody tr th {\n",
       "        vertical-align: top;\n",
       "    }\n",
       "\n",
       "    .dataframe thead th {\n",
       "        text-align: right;\n",
       "    }\n",
       "</style>\n",
       "<table border=\"1\" class=\"dataframe\">\n",
       "  <thead>\n",
       "    <tr style=\"text-align: right;\">\n",
       "      <th></th>\n",
       "      <th>DateRep</th>\n",
       "      <th>Day</th>\n",
       "      <th>Month</th>\n",
       "      <th>Year</th>\n",
       "      <th>Cases</th>\n",
       "      <th>Deaths</th>\n",
       "      <th>Countries and territories</th>\n",
       "      <th>GeoId</th>\n",
       "    </tr>\n",
       "  </thead>\n",
       "  <tbody>\n",
       "    <tr>\n",
       "      <th>0</th>\n",
       "      <td>2020-03-24</td>\n",
       "      <td>24</td>\n",
       "      <td>3</td>\n",
       "      <td>2020</td>\n",
       "      <td>6</td>\n",
       "      <td>1</td>\n",
       "      <td>Afghanistan</td>\n",
       "      <td>AF</td>\n",
       "    </tr>\n",
       "    <tr>\n",
       "      <th>1</th>\n",
       "      <td>2020-03-23</td>\n",
       "      <td>23</td>\n",
       "      <td>3</td>\n",
       "      <td>2020</td>\n",
       "      <td>10</td>\n",
       "      <td>0</td>\n",
       "      <td>Afghanistan</td>\n",
       "      <td>AF</td>\n",
       "    </tr>\n",
       "    <tr>\n",
       "      <th>2</th>\n",
       "      <td>2020-03-22</td>\n",
       "      <td>22</td>\n",
       "      <td>3</td>\n",
       "      <td>2020</td>\n",
       "      <td>0</td>\n",
       "      <td>0</td>\n",
       "      <td>Afghanistan</td>\n",
       "      <td>AF</td>\n",
       "    </tr>\n",
       "    <tr>\n",
       "      <th>3</th>\n",
       "      <td>2020-03-21</td>\n",
       "      <td>21</td>\n",
       "      <td>3</td>\n",
       "      <td>2020</td>\n",
       "      <td>2</td>\n",
       "      <td>0</td>\n",
       "      <td>Afghanistan</td>\n",
       "      <td>AF</td>\n",
       "    </tr>\n",
       "    <tr>\n",
       "      <th>4</th>\n",
       "      <td>2020-03-20</td>\n",
       "      <td>20</td>\n",
       "      <td>3</td>\n",
       "      <td>2020</td>\n",
       "      <td>0</td>\n",
       "      <td>0</td>\n",
       "      <td>Afghanistan</td>\n",
       "      <td>AF</td>\n",
       "    </tr>\n",
       "    <tr>\n",
       "      <th>...</th>\n",
       "      <td>...</td>\n",
       "      <td>...</td>\n",
       "      <td>...</td>\n",
       "      <td>...</td>\n",
       "      <td>...</td>\n",
       "      <td>...</td>\n",
       "      <td>...</td>\n",
       "      <td>...</td>\n",
       "    </tr>\n",
       "    <tr>\n",
       "      <th>6546</th>\n",
       "      <td>2020-03-19</td>\n",
       "      <td>19</td>\n",
       "      <td>3</td>\n",
       "      <td>2020</td>\n",
       "      <td>2</td>\n",
       "      <td>0</td>\n",
       "      <td>Zambia</td>\n",
       "      <td>ZM</td>\n",
       "    </tr>\n",
       "    <tr>\n",
       "      <th>6547</th>\n",
       "      <td>2020-03-24</td>\n",
       "      <td>24</td>\n",
       "      <td>3</td>\n",
       "      <td>2020</td>\n",
       "      <td>0</td>\n",
       "      <td>1</td>\n",
       "      <td>Zimbabwe</td>\n",
       "      <td>ZW</td>\n",
       "    </tr>\n",
       "    <tr>\n",
       "      <th>6548</th>\n",
       "      <td>2020-03-23</td>\n",
       "      <td>23</td>\n",
       "      <td>3</td>\n",
       "      <td>2020</td>\n",
       "      <td>0</td>\n",
       "      <td>0</td>\n",
       "      <td>Zimbabwe</td>\n",
       "      <td>ZW</td>\n",
       "    </tr>\n",
       "    <tr>\n",
       "      <th>6549</th>\n",
       "      <td>2020-03-22</td>\n",
       "      <td>22</td>\n",
       "      <td>3</td>\n",
       "      <td>2020</td>\n",
       "      <td>1</td>\n",
       "      <td>0</td>\n",
       "      <td>Zimbabwe</td>\n",
       "      <td>ZW</td>\n",
       "    </tr>\n",
       "    <tr>\n",
       "      <th>6550</th>\n",
       "      <td>2020-03-21</td>\n",
       "      <td>21</td>\n",
       "      <td>3</td>\n",
       "      <td>2020</td>\n",
       "      <td>1</td>\n",
       "      <td>0</td>\n",
       "      <td>Zimbabwe</td>\n",
       "      <td>ZW</td>\n",
       "    </tr>\n",
       "  </tbody>\n",
       "</table>\n",
       "<p>6551 rows × 8 columns</p>\n",
       "</div>"
      ],
      "text/plain": [
       "        DateRep  Day  Month  Year  Cases  Deaths Countries and territories  \\\n",
       "0    2020-03-24   24      3  2020      6       1               Afghanistan   \n",
       "1    2020-03-23   23      3  2020     10       0               Afghanistan   \n",
       "2    2020-03-22   22      3  2020      0       0               Afghanistan   \n",
       "3    2020-03-21   21      3  2020      2       0               Afghanistan   \n",
       "4    2020-03-20   20      3  2020      0       0               Afghanistan   \n",
       "...         ...  ...    ...   ...    ...     ...                       ...   \n",
       "6546 2020-03-19   19      3  2020      2       0                    Zambia   \n",
       "6547 2020-03-24   24      3  2020      0       1                  Zimbabwe   \n",
       "6548 2020-03-23   23      3  2020      0       0                  Zimbabwe   \n",
       "6549 2020-03-22   22      3  2020      1       0                  Zimbabwe   \n",
       "6550 2020-03-21   21      3  2020      1       0                  Zimbabwe   \n",
       "\n",
       "     GeoId  \n",
       "0       AF  \n",
       "1       AF  \n",
       "2       AF  \n",
       "3       AF  \n",
       "4       AF  \n",
       "...    ...  \n",
       "6546    ZM  \n",
       "6547    ZW  \n",
       "6548    ZW  \n",
       "6549    ZW  \n",
       "6550    ZW  \n",
       "\n",
       "[6551 rows x 8 columns]"
      ]
     },
     "execution_count": 12,
     "metadata": {},
     "output_type": "execute_result"
    }
   ],
   "source": [
    "df"
   ]
  },
  {
   "cell_type": "markdown",
   "metadata": {},
   "source": [
    "#### Set Date as Index"
   ]
  },
  {
   "cell_type": "code",
   "execution_count": 13,
   "metadata": {},
   "outputs": [],
   "source": [
    "df.set_index('DateRep', inplace=True)\n",
    "df = df.sort_index()"
   ]
  },
  {
   "cell_type": "code",
   "execution_count": 14,
   "metadata": {
    "scrolled": true
   },
   "outputs": [
    {
     "data": {
      "text/html": [
       "<div>\n",
       "<style scoped>\n",
       "    .dataframe tbody tr th:only-of-type {\n",
       "        vertical-align: middle;\n",
       "    }\n",
       "\n",
       "    .dataframe tbody tr th {\n",
       "        vertical-align: top;\n",
       "    }\n",
       "\n",
       "    .dataframe thead th {\n",
       "        text-align: right;\n",
       "    }\n",
       "</style>\n",
       "<table border=\"1\" class=\"dataframe\">\n",
       "  <thead>\n",
       "    <tr style=\"text-align: right;\">\n",
       "      <th></th>\n",
       "      <th>Day</th>\n",
       "      <th>Month</th>\n",
       "      <th>Year</th>\n",
       "      <th>Cases</th>\n",
       "      <th>Deaths</th>\n",
       "      <th>Countries and territories</th>\n",
       "      <th>GeoId</th>\n",
       "    </tr>\n",
       "    <tr>\n",
       "      <th>DateRep</th>\n",
       "      <th></th>\n",
       "      <th></th>\n",
       "      <th></th>\n",
       "      <th></th>\n",
       "      <th></th>\n",
       "      <th></th>\n",
       "      <th></th>\n",
       "    </tr>\n",
       "  </thead>\n",
       "  <tbody>\n",
       "    <tr>\n",
       "      <th>2019-12-31</th>\n",
       "      <td>31</td>\n",
       "      <td>12</td>\n",
       "      <td>2019</td>\n",
       "      <td>0</td>\n",
       "      <td>0</td>\n",
       "      <td>Brazil</td>\n",
       "      <td>BR</td>\n",
       "    </tr>\n",
       "    <tr>\n",
       "      <th>2019-12-31</th>\n",
       "      <td>31</td>\n",
       "      <td>12</td>\n",
       "      <td>2019</td>\n",
       "      <td>0</td>\n",
       "      <td>0</td>\n",
       "      <td>Canada</td>\n",
       "      <td>CA</td>\n",
       "    </tr>\n",
       "    <tr>\n",
       "      <th>2019-12-31</th>\n",
       "      <td>31</td>\n",
       "      <td>12</td>\n",
       "      <td>2019</td>\n",
       "      <td>0</td>\n",
       "      <td>0</td>\n",
       "      <td>New_Zealand</td>\n",
       "      <td>NZ</td>\n",
       "    </tr>\n",
       "    <tr>\n",
       "      <th>2019-12-31</th>\n",
       "      <td>31</td>\n",
       "      <td>12</td>\n",
       "      <td>2019</td>\n",
       "      <td>0</td>\n",
       "      <td>0</td>\n",
       "      <td>Kuwait</td>\n",
       "      <td>KW</td>\n",
       "    </tr>\n",
       "    <tr>\n",
       "      <th>2019-12-31</th>\n",
       "      <td>31</td>\n",
       "      <td>12</td>\n",
       "      <td>2019</td>\n",
       "      <td>0</td>\n",
       "      <td>0</td>\n",
       "      <td>Japan</td>\n",
       "      <td>JP</td>\n",
       "    </tr>\n",
       "    <tr>\n",
       "      <th>...</th>\n",
       "      <td>...</td>\n",
       "      <td>...</td>\n",
       "      <td>...</td>\n",
       "      <td>...</td>\n",
       "      <td>...</td>\n",
       "      <td>...</td>\n",
       "      <td>...</td>\n",
       "    </tr>\n",
       "    <tr>\n",
       "      <th>2020-03-24</th>\n",
       "      <td>24</td>\n",
       "      <td>3</td>\n",
       "      <td>2020</td>\n",
       "      <td>20</td>\n",
       "      <td>1</td>\n",
       "      <td>Hungary</td>\n",
       "      <td>HU</td>\n",
       "    </tr>\n",
       "    <tr>\n",
       "      <th>2020-03-24</th>\n",
       "      <td>24</td>\n",
       "      <td>3</td>\n",
       "      <td>2020</td>\n",
       "      <td>20</td>\n",
       "      <td>1</td>\n",
       "      <td>Iceland</td>\n",
       "      <td>IS</td>\n",
       "    </tr>\n",
       "    <tr>\n",
       "      <th>2020-03-24</th>\n",
       "      <td>24</td>\n",
       "      <td>3</td>\n",
       "      <td>2020</td>\n",
       "      <td>53</td>\n",
       "      <td>2</td>\n",
       "      <td>India</td>\n",
       "      <td>IN</td>\n",
       "    </tr>\n",
       "    <tr>\n",
       "      <th>2020-03-24</th>\n",
       "      <td>24</td>\n",
       "      <td>3</td>\n",
       "      <td>2020</td>\n",
       "      <td>1</td>\n",
       "      <td>0</td>\n",
       "      <td>Guyana</td>\n",
       "      <td>GY</td>\n",
       "    </tr>\n",
       "    <tr>\n",
       "      <th>2020-03-24</th>\n",
       "      <td>24</td>\n",
       "      <td>3</td>\n",
       "      <td>2020</td>\n",
       "      <td>6</td>\n",
       "      <td>1</td>\n",
       "      <td>Afghanistan</td>\n",
       "      <td>AF</td>\n",
       "    </tr>\n",
       "  </tbody>\n",
       "</table>\n",
       "<p>6551 rows × 7 columns</p>\n",
       "</div>"
      ],
      "text/plain": [
       "            Day  Month  Year  Cases  Deaths Countries and territories GeoId\n",
       "DateRep                                                                    \n",
       "2019-12-31   31     12  2019      0       0                    Brazil    BR\n",
       "2019-12-31   31     12  2019      0       0                    Canada    CA\n",
       "2019-12-31   31     12  2019      0       0               New_Zealand    NZ\n",
       "2019-12-31   31     12  2019      0       0                    Kuwait    KW\n",
       "2019-12-31   31     12  2019      0       0                     Japan    JP\n",
       "...         ...    ...   ...    ...     ...                       ...   ...\n",
       "2020-03-24   24      3  2020     20       1                   Hungary    HU\n",
       "2020-03-24   24      3  2020     20       1                   Iceland    IS\n",
       "2020-03-24   24      3  2020     53       2                     India    IN\n",
       "2020-03-24   24      3  2020      1       0                    Guyana    GY\n",
       "2020-03-24   24      3  2020      6       1               Afghanistan    AF\n",
       "\n",
       "[6551 rows x 7 columns]"
      ]
     },
     "execution_count": 14,
     "metadata": {},
     "output_type": "execute_result"
    }
   ],
   "source": [
    "df"
   ]
  },
  {
   "cell_type": "markdown",
   "metadata": {},
   "source": [
    "#### Fix Inconsistent Capitalisation of Country Names"
   ]
  },
  {
   "cell_type": "code",
   "execution_count": null,
   "metadata": {},
   "outputs": [],
   "source": [
    "countries = df['Countries and territories'].values\n",
    "np.unique(countries)"
   ]
  },
  {
   "cell_type": "code",
   "execution_count": null,
   "metadata": {},
   "outputs": [],
   "source": [
    "df.replace(['United kingdom', 'Czech republic', 'switzerland', 'CANADA'], ['United Kingdom', 'Czech Republic', 'Switzerland', 'Canada'], inplace=True)"
   ]
  },
  {
   "cell_type": "code",
   "execution_count": null,
   "metadata": {
    "scrolled": true
   },
   "outputs": [],
   "source": [
    "countries = df['Countries and territories'].values\n",
    "np.unique(countries)"
   ]
  },
  {
   "cell_type": "markdown",
   "metadata": {},
   "source": [
    "#### Examine Global Numbers"
   ]
  },
  {
   "cell_type": "code",
   "execution_count": null,
   "metadata": {},
   "outputs": [],
   "source": [
    "df_global = df[['Cases', 'Deaths']].groupby(df.index).sum()"
   ]
  },
  {
   "cell_type": "code",
   "execution_count": null,
   "metadata": {
    "scrolled": true
   },
   "outputs": [],
   "source": [
    "df_global.head()"
   ]
  },
  {
   "cell_type": "code",
   "execution_count": null,
   "metadata": {},
   "outputs": [],
   "source": [
    "df_global['Total_Cases'] = df_global['Cases'].cumsum()\n",
    "df_global['Total_Deaths'] = df_global['Deaths'].cumsum()"
   ]
  },
  {
   "cell_type": "code",
   "execution_count": null,
   "metadata": {
    "scrolled": true
   },
   "outputs": [],
   "source": [
    "df_global"
   ]
  },
  {
   "cell_type": "markdown",
   "metadata": {},
   "source": [
    "#### Total Confirmed Cases and Deaths Globally"
   ]
  },
  {
   "cell_type": "code",
   "execution_count": null,
   "metadata": {
    "scrolled": true
   },
   "outputs": [],
   "source": [
    "df_global.Cases.sum()"
   ]
  },
  {
   "cell_type": "code",
   "execution_count": null,
   "metadata": {},
   "outputs": [],
   "source": [
    "df_global.Deaths.sum()"
   ]
  },
  {
   "cell_type": "code",
   "execution_count": null,
   "metadata": {
    "scrolled": false
   },
   "outputs": [],
   "source": [
    "#plot data\n",
    "fig, ax = plt.subplots(figsize=(15,7))\n",
    "ax.plot(df_global.index, df_global['Total_Cases'])\n",
    "ax.plot(df_global.index, df_global['Total_Deaths'])\n",
    "\n",
    "#set ticks every week\n",
    "ax.xaxis.set_major_locator(mdates.WeekdayLocator())\n",
    "#set major ticks format\n",
    "ax.xaxis.set_major_formatter(mdates.DateFormatter('%b %d'))\n",
    "\n",
    "# Turn on the grid\n",
    "plt.minorticks_on()\n",
    "plt.grid(which='major', linestyle='-', linewidth='0.5', color='black')\n",
    "# Customize the minor grid\n",
    "plt.grid(which='minor', linestyle=':', linewidth='0.5', color='red')\n",
    "ax.set_ylabel('No. of People')\n",
    "\n",
    "plt.title(\"Total No. of Confirmed Cases and Deaths Globally\")\n",
    "\n",
    "plt.legend(['Total Confirmed Cases', 'Total Deaths'])\n",
    "\n",
    "plt.savefig('Images/' + str(today) + ' Total No. of Confirmed Cases and Deaths Globally.png')\n",
    "\n",
    "plt.show()"
   ]
  },
  {
   "cell_type": "markdown",
   "metadata": {},
   "source": [
    "#### Daily New Confirmed Cases and Deaths Globally"
   ]
  },
  {
   "cell_type": "code",
   "execution_count": null,
   "metadata": {
    "scrolled": false
   },
   "outputs": [],
   "source": [
    "#plot data\n",
    "fig, ax = plt.subplots(figsize=(15,7))\n",
    "ax.bar(df_global.index, df_global['Cases'])\n",
    "ax.bar(df_global.index, df_global['Deaths'])\n",
    "\n",
    "#set ticks every week\n",
    "ax.xaxis.set_major_locator(mdates.WeekdayLocator())\n",
    "#set major ticks format\n",
    "ax.xaxis.set_major_formatter(mdates.DateFormatter('%b %d'))\n",
    "\n",
    "# Turn on the grid\n",
    "plt.minorticks_on()\n",
    "plt.grid(which='major', linestyle='-', linewidth='0.5', color='black')\n",
    "# Customize the minor grid\n",
    "plt.grid(which='minor', linestyle=':', linewidth='0.5', color='red')\n",
    "ax.set_ylabel('No. of People')\n",
    "\n",
    "plt.title(\"Daily No. of New Confirmed Cases and Deaths Globally\")\n",
    "\n",
    "plt.legend(['New Confirmed Cases', 'New Deaths'])\n",
    "\n",
    "plt.savefig('Images/' + str(today) + ' Daily No. of New Confirmed Cases and Deaths Globally.png')\n",
    "\n",
    "plt.show()"
   ]
  },
  {
   "cell_type": "markdown",
   "metadata": {},
   "source": [
    "#### Top 20 Countries with the Most Confirmed Cases and Deaths"
   ]
  },
  {
   "cell_type": "code",
   "execution_count": null,
   "metadata": {},
   "outputs": [],
   "source": [
    "df_countries = df.set_index('Countries and territories')"
   ]
  },
  {
   "cell_type": "code",
   "execution_count": null,
   "metadata": {},
   "outputs": [],
   "source": [
    "df_countries = df_countries.groupby('Countries and territories').sum()"
   ]
  },
  {
   "cell_type": "code",
   "execution_count": null,
   "metadata": {
    "scrolled": true
   },
   "outputs": [],
   "source": [
    "df_countries = df_countries.sort_values('Cases', ascending=True)"
   ]
  },
  {
   "cell_type": "code",
   "execution_count": null,
   "metadata": {
    "scrolled": false
   },
   "outputs": [],
   "source": [
    "#plot data\n",
    "labels = df_countries.index[-20:]\n",
    "Cases = df_countries['Cases'][-20:]\n",
    "Deaths = df_countries['Deaths'][-20:]\n",
    "\n",
    "x = np.arange(len(labels))  # the label locations\n",
    "width = 0.35  # the width of the bars\n",
    "\n",
    "fig, ax = plt.subplots(figsize=(15, 7))\n",
    "rects1 = ax.bar(x - width/2, Cases, width, label='New Confirmed Cases')\n",
    "rects2 = ax.bar(x + width/2, Deaths, width, label='New Deaths')\n",
    "\n",
    "# Add some text for labels, title and custom x-axis tick labels, etc.\n",
    "ax.set_ylabel('No. of People')\n",
    "ax.set_title('Top 20 Countries with the Most Confirmed Cases and Deaths')\n",
    "ax.set_xticks(x)\n",
    "ax.set_xticklabels(labels, rotation=90)\n",
    "\n",
    "ax.minorticks_on()\n",
    "ax.grid(which='major', linestyle='-', linewidth='0.5', color='black')\n",
    "ax.grid(which='minor', linestyle=':', linewidth='0.5', color='red')\n",
    "ax.legend()\n",
    "\n",
    "\n",
    "def autolabel(rects):\n",
    "    \"\"\"Attach a text label above each bar in *rects*, displaying its height.\"\"\"\n",
    "    for rect in rects:\n",
    "        height = rect.get_height()\n",
    "        ax.annotate('{}'.format(height),\n",
    "                    xy=(rect.get_x() + rect.get_width() / 2, height),\n",
    "                    xytext=(0, 3),  # 3 points vertical offset\n",
    "                    textcoords=\"offset points\",\n",
    "                    ha='center', va='bottom')\n",
    "\n",
    "\n",
    "autolabel(rects1)\n",
    "autolabel(rects2)\n",
    "\n",
    "fig.tight_layout()\n",
    "\n",
    "plt.savefig('Images/' + str(today) + ' Top 20 Countries with the Most Confirmed Cases and Deaths.png')\n",
    "\n",
    "plt.show()"
   ]
  },
  {
   "cell_type": "markdown",
   "metadata": {},
   "source": [
    "  #### Find Latest Data from Yesterday"
   ]
  },
  {
   "cell_type": "code",
   "execution_count": null,
   "metadata": {},
   "outputs": [],
   "source": [
    "yesterday = today - timedelta(days = 1)"
   ]
  },
  {
   "cell_type": "code",
   "execution_count": null,
   "metadata": {},
   "outputs": [],
   "source": [
    "df_yesterday = df.loc[yesterday]\n",
    "df_yesterday.set_index('Countries and territories', inplace=True)"
   ]
  },
  {
   "cell_type": "code",
   "execution_count": null,
   "metadata": {},
   "outputs": [],
   "source": [
    "df_yesterday = df_yesterday.sort_values('Cases', ascending=True)"
   ]
  },
  {
   "cell_type": "code",
   "execution_count": null,
   "metadata": {
    "scrolled": true
   },
   "outputs": [],
   "source": [
    "df_yesterday"
   ]
  },
  {
   "cell_type": "markdown",
   "metadata": {},
   "source": [
    "#### Total No. of Confirmed Cases and Deaths Yesterday Globally"
   ]
  },
  {
   "cell_type": "code",
   "execution_count": null,
   "metadata": {},
   "outputs": [],
   "source": [
    "df_yesterday.Cases.sum()"
   ]
  },
  {
   "cell_type": "code",
   "execution_count": null,
   "metadata": {
    "scrolled": true
   },
   "outputs": [],
   "source": [
    "df_yesterday.Deaths.sum()"
   ]
  },
  {
   "cell_type": "code",
   "execution_count": null,
   "metadata": {},
   "outputs": [],
   "source": [
    "#plot data\n",
    "labels = ['Yesterday']\n",
    "Cases = df_yesterday.Cases.sum()\n",
    "Deaths = df_yesterday.Deaths.sum()\n",
    "\n",
    "x = np.arange(len(labels))  # the label locations\n",
    "width = 0.35  # the width of the bars\n",
    "\n",
    "fig, ax = plt.subplots(figsize=(7, 7))\n",
    "rects1 = ax.bar(x - width/2, Cases, width, label='Total New Confirmed Cases')\n",
    "rects2 = ax.bar(x + width/2, Deaths, width, label='Total New Deaths')\n",
    "\n",
    "# Add some text for labels, title and custom x-axis tick labels, etc.\n",
    "ax.set_ylabel('No. of People')\n",
    "ax.set_title('Total No. of Confirmed Cases and Deaths Globally Yesterday (' + str(yesterday) + ')')\n",
    "ax.set_xticks(x)\n",
    "ax.set_xticklabels(labels)\n",
    "\n",
    "ax.minorticks_on()\n",
    "ax.grid(which='major', linestyle='-', linewidth='0.5', color='black')\n",
    "ax.grid(which='minor', linestyle=':', linewidth='0.5', color='red')\n",
    "ax.legend()\n",
    "\n",
    "\n",
    "def autolabel(rects):\n",
    "    \"\"\"Attach a text label above each bar in *rects*, displaying its height.\"\"\"\n",
    "    for rect in rects:\n",
    "        height = rect.get_height()\n",
    "        ax.annotate('{}'.format(height),\n",
    "                    xy=(rect.get_x() + rect.get_width() / 2, height),\n",
    "                    xytext=(0, 3),  # 3 points vertical offset\n",
    "                    textcoords=\"offset points\",\n",
    "                    ha='center', va='bottom')\n",
    "\n",
    "\n",
    "autolabel(rects1)\n",
    "autolabel(rects2)\n",
    "\n",
    "fig.tight_layout()\n",
    "\n",
    "plt.savefig('Images/' + str(today) + ' Total No. of Confirmed Cases and Deaths Globally Yesterday (' + str(yesterday) + ').png')\n",
    "\n",
    "plt.show()"
   ]
  },
  {
   "cell_type": "markdown",
   "metadata": {},
   "source": [
    "#### Top 20 Countries with the Most New Confirmed Cases and Deaths Yesterday"
   ]
  },
  {
   "cell_type": "code",
   "execution_count": null,
   "metadata": {
    "scrolled": false
   },
   "outputs": [],
   "source": [
    "#plot data\n",
    "labels = df_yesterday.index[-20:]\n",
    "Cases = df_yesterday['Cases'][-20:]\n",
    "Deaths = df_yesterday['Deaths'][-20:]\n",
    "\n",
    "x = np.arange(len(labels))  # the label locations\n",
    "width = 0.35  # the width of the bars\n",
    "\n",
    "fig, ax = plt.subplots(figsize=(15, 7))\n",
    "rects1 = ax.bar(x - width/2, Cases, width, label='New Confirmed Cases')\n",
    "rects2 = ax.bar(x + width/2, Deaths, width, label='New Deaths')\n",
    "\n",
    "# Add some text for labels, title and custom x-axis tick labels, etc.\n",
    "ax.set_ylabel('No. of People')\n",
    "ax.set_title('Top 20 Countries with the Most New Confirmed Cases and Deaths Yesterday (' + str(yesterday) + ')')\n",
    "ax.set_xticks(x)\n",
    "ax.set_xticklabels(labels, rotation=90)\n",
    "\n",
    "ax.minorticks_on()\n",
    "ax.grid(which='major', linestyle='-', linewidth='0.5', color='black')\n",
    "ax.grid(which='minor', linestyle=':', linewidth='0.5', color='red')\n",
    "ax.legend()\n",
    "\n",
    "\n",
    "def autolabel(rects):\n",
    "    \"\"\"Attach a text label above each bar in *rects*, displaying its height.\"\"\"\n",
    "    for rect in rects:\n",
    "        height = rect.get_height()\n",
    "        ax.annotate('{}'.format(height),\n",
    "                    xy=(rect.get_x() + rect.get_width() / 2, height),\n",
    "                    xytext=(0, 3),  # 3 points vertical offset\n",
    "                    textcoords=\"offset points\",\n",
    "                    ha='center', va='bottom')\n",
    "\n",
    "\n",
    "autolabel(rects1)\n",
    "autolabel(rects2)\n",
    "\n",
    "fig.tight_layout()\n",
    "\n",
    "plt.savefig('Images/' + str(today) + ' Top 20 Countries with the Most New Confirmed Cases and Deaths Yesterday ('\n",
    "            + str(yesterday) + ').png')\n",
    "\n",
    "plt.show()"
   ]
  },
  {
   "cell_type": "markdown",
   "metadata": {},
   "source": [
    "#### Find Data for Specific Countries (e.g. DE, UK, CN) and Compare"
   ]
  },
  {
   "cell_type": "markdown",
   "metadata": {},
   "source": [
    "(Can also be EU-wide too by using ```df.loc[df['EU'] == \"EU\"]``` )"
   ]
  },
  {
   "cell_type": "code",
   "execution_count": null,
   "metadata": {},
   "outputs": [],
   "source": [
    "df_sub1 = df.loc[df['GeoId'] == \"UK\"]\n",
    "df_sub2 = df.loc[df['GeoId'] == \"US\"]"
   ]
  },
  {
   "cell_type": "markdown",
   "metadata": {},
   "source": [
    "#### Daily No. of New Confirmed Cases and Deaths in X & Y"
   ]
  },
  {
   "cell_type": "code",
   "execution_count": null,
   "metadata": {
    "scrolled": false
   },
   "outputs": [],
   "source": [
    "#plot data\n",
    "fig, axs = plt.subplots(2, 1, figsize=(15, 10))\n",
    "axs[0].bar(df_sub1.index, df_sub1['Cases'])\n",
    "axs[0].bar(df_sub1.index, df_sub1['Deaths'])\n",
    "\n",
    "#Set \n",
    "axs[1].bar(df_sub2.index, df_sub2['Cases'])\n",
    "axs[1].bar(df_sub2.index, df_sub2['Deaths'])\n",
    "\n",
    "#set ticks every week\n",
    "axs[0].xaxis.set_major_locator(mdates.WeekdayLocator())\n",
    "axs[0].xaxis.set_major_formatter(mdates.DateFormatter('%b %d'))\n",
    "axs[1].xaxis.set_major_locator(mdates.WeekdayLocator())\n",
    "axs[1].xaxis.set_major_formatter(mdates.DateFormatter('%b %d'))\n",
    "\n",
    "#Gridlines\n",
    "axs[0].minorticks_on()\n",
    "axs[0].grid(which='major', linestyle='-', linewidth='0.5', color='black')\n",
    "axs[0].grid(which='minor', linestyle=':', linewidth='0.5', color='red')\n",
    "axs[0].set_ylabel('No. of People')\n",
    "\n",
    "axs[1].minorticks_on()\n",
    "axs[1].grid(which='major', linestyle='-', linewidth='0.5', color='black')\n",
    "axs[1].grid(which='minor', linestyle=':', linewidth='0.5', color='red')\n",
    "axs[1].set_ylabel('No. of People')\n",
    "\n",
    "\n",
    "#Titles\n",
    "title1 = df_sub1['Countries and territories'].unique()[0]\n",
    "title2 = df_sub2['Countries and territories'].unique()[0]\n",
    "axs[0].title.set_text(\"Daily No. of New Confirmed Cases and Deaths in \" + title1)\n",
    "axs[1].title.set_text(\"Daily No. of New Confirmed Cases and Deaths in \" + title2)\n",
    "\n",
    "#Legends\n",
    "axs[0].legend(['New Confirmed Cases', 'New Deaths'], loc=2)\n",
    "axs[1].legend(['New Confirmed Cases', 'New Deaths'], loc=2)\n",
    "\n",
    "plt.savefig('Images/' + str(today) + ' Daily No. of New Confirmed Cases and Deaths in ' + title1 + ' & ' + title2 + '.png')\n",
    "\n",
    "plt.show()"
   ]
  },
  {
   "cell_type": "markdown",
   "metadata": {},
   "source": [
    "#### Total No. of Confirmed Cases and Deaths in X & Y"
   ]
  },
  {
   "cell_type": "code",
   "execution_count": null,
   "metadata": {
    "scrolled": true
   },
   "outputs": [],
   "source": [
    "df_sub1['Total_Cases'] = df_sub1.loc[:,'Cases'].cumsum()\n",
    "df_sub1['Total_Deaths'] = df_sub1.loc[:,'Deaths'].cumsum()\n",
    "\n",
    "df_sub2['Total_Cases'] = df_sub2.loc[:,'Cases'].cumsum()\n",
    "df_sub2['Total_Deaths'] = df_sub2.loc[:,'Deaths'].cumsum()\n"
   ]
  },
  {
   "cell_type": "code",
   "execution_count": null,
   "metadata": {
    "scrolled": false
   },
   "outputs": [],
   "source": [
    "#plot data\n",
    "fig, axs = plt.subplots(2, 1, figsize=(15, 10))\n",
    "axs[0].plot(df_sub1.index, df_sub1['Total_Cases'])\n",
    "axs[0].plot(df_sub1.index, df_sub1['Total_Deaths'])\n",
    "\n",
    "#Set \n",
    "axs[1].plot(df_sub2.index, df_sub2['Total_Cases'])\n",
    "axs[1].plot(df_sub2.index, df_sub2['Total_Deaths'])\n",
    "\n",
    "#set ticks every week\n",
    "axs[0].xaxis.set_major_locator(mdates.WeekdayLocator())\n",
    "axs[0].xaxis.set_major_formatter(mdates.DateFormatter('%b %d'))\n",
    "axs[1].xaxis.set_major_locator(mdates.WeekdayLocator())\n",
    "axs[1].xaxis.set_major_formatter(mdates.DateFormatter('%b %d'))\n",
    "\n",
    "#Gridlines\n",
    "axs[0].minorticks_on()\n",
    "axs[0].grid(which='major', linestyle='-', linewidth='0.5', color='black')\n",
    "axs[0].grid(which='minor', linestyle=':', linewidth='0.5', color='red')\n",
    "axs[0].set_ylabel('No. of People')\n",
    "\n",
    "axs[1].minorticks_on()\n",
    "axs[1].grid(which='major', linestyle='-', linewidth='0.5', color='black')\n",
    "axs[1].grid(which='minor', linestyle=':', linewidth='0.5', color='red')\n",
    "axs[1].set_ylabel('No. of People')\n",
    "\n",
    "\n",
    "#Titles\n",
    "title1 = df_sub1['Countries and territories'].unique()[0]\n",
    "title2 = df_sub2['Countries and territories'].unique()[0]\n",
    "axs[0].title.set_text(\"Total No. of Confirmed Cases and Deaths in \" + title1)\n",
    "axs[1].title.set_text(\"Total No. of Confirmed Cases and Deaths in \" + title2)\n",
    "\n",
    "#Legends\n",
    "axs[0].legend(['Total Confirmed Cases', 'Total Deaths'], loc=2)\n",
    "axs[1].legend(['Total Confirmed Cases', 'Total Deaths'], loc=2)\n",
    "\n",
    "plt.savefig('Images/'+str(today) + ' Total No. of Confirmed Cases and Deaths in ' + title1 + ' & ' + title2 + '.png')\n",
    "\n",
    "plt.show()"
   ]
  }
 ],
 "metadata": {
  "kernelspec": {
   "display_name": "Python 3",
   "language": "python",
   "name": "python3"
  },
  "language_info": {
   "codemirror_mode": {
    "name": "ipython",
    "version": 3
   },
   "file_extension": ".py",
   "mimetype": "text/x-python",
   "name": "python",
   "nbconvert_exporter": "python",
   "pygments_lexer": "ipython3",
   "version": "3.7.4"
  }
 },
 "nbformat": 4,
 "nbformat_minor": 4
}
