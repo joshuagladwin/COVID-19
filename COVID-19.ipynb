{
 "cells": [
  {
   "cell_type": "markdown",
   "metadata": {},
   "source": [
    "# Examing Data from COVID-19 Outbreak"
   ]
  },
  {
   "cell_type": "markdown",
   "metadata": {},
   "source": [
    "#### Import Libraries"
   ]
  },
  {
   "cell_type": "code",
   "execution_count": null,
   "metadata": {},
   "outputs": [],
   "source": [
    "import pandas as pd\n",
    "from datetime import date, timedelta\n",
    "import xlrd\n",
    "import numpy as np\n",
    "import matplotlib.pyplot as plt\n",
    "import matplotlib.dates as mdates\n",
    "\n",
    "pd.options.mode.chained_assignment = None  # default='warn'"
   ]
  },
  {
   "cell_type": "markdown",
   "metadata": {},
   "source": [
    "#### Import Latest XLS from ECDC website"
   ]
  },
  {
   "cell_type": "code",
   "execution_count": null,
   "metadata": {},
   "outputs": [],
   "source": [
    "today = date.today()"
   ]
  },
  {
   "cell_type": "code",
   "execution_count": null,
   "metadata": {},
   "outputs": [],
   "source": [
    "day = today.strftime(\"%d\")\n",
    "month = today.strftime(\"%m\")"
   ]
  },
  {
   "cell_type": "code",
   "execution_count": null,
   "metadata": {},
   "outputs": [],
   "source": [
    "url  = \"https://www.ecdc.europa.eu/sites/default/files/documents/COVID-19-geographic-disbtribution-worldwide-2020-{}-{}.xlsx\".format(month, day)"
   ]
  },
  {
   "cell_type": "code",
   "execution_count": null,
   "metadata": {
    "scrolled": true
   },
   "outputs": [],
   "source": [
    "url"
   ]
  },
  {
   "cell_type": "markdown",
   "metadata": {},
   "source": [
    "#### Load into DataFrame"
   ]
  },
  {
   "cell_type": "code",
   "execution_count": null,
   "metadata": {},
   "outputs": [],
   "source": [
    "df = pd.read_excel(url)"
   ]
  },
  {
   "cell_type": "code",
   "execution_count": null,
   "metadata": {},
   "outputs": [],
   "source": [
    "df"
   ]
  },
  {
   "cell_type": "code",
   "execution_count": null,
   "metadata": {},
   "outputs": [],
   "source": [
    "#df.info()"
   ]
  },
  {
   "cell_type": "markdown",
   "metadata": {},
   "source": [
    "#### Output DataFrame to CSV"
   ]
  },
  {
   "cell_type": "code",
   "execution_count": null,
   "metadata": {},
   "outputs": [],
   "source": [
    "#Saves local coopy of ECDC \n",
    "\n",
    "date = today.strftime('%Y-%m-%d')\n",
    "\n",
    "filename = \"ECDC Data \" + date + '.csv'\n",
    "filename"
   ]
  },
  {
   "cell_type": "code",
   "execution_count": null,
   "metadata": {},
   "outputs": [],
   "source": [
    "df.to_csv(filename)"
   ]
  },
  {
   "cell_type": "markdown",
   "metadata": {},
   "source": [
    "#### Fix Date format"
   ]
  },
  {
   "cell_type": "code",
   "execution_count": null,
   "metadata": {},
   "outputs": [],
   "source": [
    "#Excel to DateTime\n",
    "#def read_date(date):\n",
    "#return xlrd.xldate.xldate_as_datetime(date, 0)"
   ]
  },
  {
   "cell_type": "code",
   "execution_count": null,
   "metadata": {
    "scrolled": true
   },
   "outputs": [],
   "source": [
    "#df['dateRep'] = pd.to_datetime(df['dateRep'].apply(read_date), errors='coerce')"
   ]
  },
  {
   "cell_type": "code",
   "execution_count": null,
   "metadata": {},
   "outputs": [],
   "source": [
    "#Obj to DateTime\n",
    "#df['dateRep'] = pd.to_datetime(df[['year', 'month', 'day']])"
   ]
  },
  {
   "cell_type": "code",
   "execution_count": null,
   "metadata": {
    "scrolled": true
   },
   "outputs": [],
   "source": [
    "#df"
   ]
  },
  {
   "cell_type": "code",
   "execution_count": null,
   "metadata": {},
   "outputs": [],
   "source": [
    "#df.info()"
   ]
  },
  {
   "cell_type": "markdown",
   "metadata": {},
   "source": [
    "#### Set Date as Index"
   ]
  },
  {
   "cell_type": "code",
   "execution_count": null,
   "metadata": {},
   "outputs": [],
   "source": [
    "df.set_index('dateRep', inplace=True)\n",
    "df = df.sort_index()"
   ]
  },
  {
   "cell_type": "code",
   "execution_count": null,
   "metadata": {
    "scrolled": true
   },
   "outputs": [],
   "source": [
    "df"
   ]
  },
  {
   "cell_type": "code",
   "execution_count": null,
   "metadata": {},
   "outputs": [],
   "source": [
    "countries = df['countriesAndTerritories'].values\n",
    "np.unique(countries)"
   ]
  },
  {
   "cell_type": "markdown",
   "metadata": {},
   "source": [
    "#### Fix Inconsistent Capitalisation of Country Names"
   ]
  },
  {
   "cell_type": "code",
   "execution_count": null,
   "metadata": {},
   "outputs": [],
   "source": [
    "#df.replace(['United kingdom', 'Czech republic', 'switzerland', 'CANADA'], ['United Kingdom', 'Czech Republic', 'Switzerland', 'Canada'], inplace=True)"
   ]
  },
  {
   "cell_type": "code",
   "execution_count": null,
   "metadata": {
    "scrolled": true
   },
   "outputs": [],
   "source": [
    "#countries = df['countriesAndTerritories'].values\n",
    "#np.unique(countries)"
   ]
  },
  {
   "cell_type": "markdown",
   "metadata": {},
   "source": [
    "#### Set up Seven Day Window"
   ]
  },
  {
   "cell_type": "code",
   "execution_count": null,
   "metadata": {},
   "outputs": [],
   "source": [
    "seven_day = today - timedelta(days = 7)"
   ]
  },
  {
   "cell_type": "markdown",
   "metadata": {},
   "source": [
    "#### Examine Global Numbers"
   ]
  },
  {
   "cell_type": "code",
   "execution_count": null,
   "metadata": {},
   "outputs": [],
   "source": [
    "df_global = df[['cases', 'deaths']].groupby(df.index).sum()"
   ]
  },
  {
   "cell_type": "code",
   "execution_count": null,
   "metadata": {
    "scrolled": true
   },
   "outputs": [],
   "source": [
    "df_global.head()"
   ]
  },
  {
   "cell_type": "code",
   "execution_count": null,
   "metadata": {},
   "outputs": [],
   "source": [
    "df_global['Total_Cases'] = df_global['cases'].cumsum()\n",
    "df_global['Total_Deaths'] = df_global['deaths'].cumsum()\n",
    "df_global['SDA_Cases'] = df_global['cases'].rolling(window=7).mean()\n",
    "df_global['SDA_Deaths'] = df_global['deaths'].rolling(window=7).mean()"
   ]
  },
  {
   "cell_type": "code",
   "execution_count": null,
   "metadata": {
    "scrolled": true
   },
   "outputs": [],
   "source": [
    "df_global"
   ]
  },
  {
   "cell_type": "markdown",
   "metadata": {},
   "source": [
    "#### Total Confirmed Cases and Deaths Globally"
   ]
  },
  {
   "cell_type": "code",
   "execution_count": null,
   "metadata": {
    "scrolled": true
   },
   "outputs": [],
   "source": [
    "df_global.cases.sum()"
   ]
  },
  {
   "cell_type": "code",
   "execution_count": null,
   "metadata": {},
   "outputs": [],
   "source": [
    "df_global.deaths.sum()"
   ]
  },
  {
   "cell_type": "code",
   "execution_count": null,
   "metadata": {
    "scrolled": false
   },
   "outputs": [],
   "source": [
    "#plot data\n",
    "fig, ax = plt.subplots(figsize=(17,7))\n",
    "ax.plot(df_global.index, df_global['Total_Cases'])\n",
    "ax.plot(df_global.index, df_global['Total_Deaths'])\n",
    "\n",
    "#set ticks every week\n",
    "ax.xaxis.set_major_locator(mdates.WeekdayLocator())\n",
    "#set major ticks format\n",
    "ax.xaxis.set_major_formatter(mdates.DateFormatter('%b %d'))\n",
    "\n",
    "# Turn on the grid\n",
    "plt.minorticks_on()\n",
    "plt.grid(which='major', linestyle='-', linewidth='0.5', color='black')\n",
    "# Customize the minor grid\n",
    "plt.grid(which='minor', linestyle=':', linewidth='0.5', color='red')\n",
    "ax.set_ylabel('No. of People')\n",
    "\n",
    "plt.title(\"Total No. of Confirmed Cases and Deaths Globally\")\n",
    "\n",
    "plt.legend(['Total Confirmed Cases', 'Total Deaths'])\n",
    "\n",
    "plt.savefig('Images/' + str(today) + ' Total No. of Confirmed Cases and Deaths Globally.png')\n",
    "\n",
    "plt.show()"
   ]
  },
  {
   "cell_type": "markdown",
   "metadata": {},
   "source": [
    "#### Daily New Confirmed Cases and Deaths Globally"
   ]
  },
  {
   "cell_type": "code",
   "execution_count": null,
   "metadata": {
    "scrolled": false
   },
   "outputs": [],
   "source": [
    "#plot data\n",
    "fig, ax = plt.subplots(figsize=(17,7))\n",
    "ax.bar(df_global.index, df_global['cases'])\n",
    "ax.bar(df_global.index, df_global['deaths'])\n",
    "ax.plot(df_global.index, df_global['SDA_Cases'],color='y', linewidth = 2)\n",
    "ax.plot(df_global.index, df_global['SDA_Deaths'],color='m', linewidth = 2)\n",
    "\n",
    "#set ticks every week\n",
    "ax.xaxis.set_major_locator(mdates.WeekdayLocator())\n",
    "#set major ticks format\n",
    "ax.xaxis.set_major_formatter(mdates.DateFormatter('%b %d'))\n",
    "\n",
    "# Turn on the grid\n",
    "plt.minorticks_on()\n",
    "plt.grid(which='major', linestyle='-', linewidth='0.5', color='black')\n",
    "# Customize the minor grid\n",
    "plt.grid(which='minor', linestyle=':', linewidth='0.5', color='red')\n",
    "ax.set_ylabel('No. of People')\n",
    "\n",
    "plt.title(\"Daily No. of New Confirmed Cases and Deaths Globally\")\n",
    "\n",
    "plt.legend(['7-Day Mean Cases', '7-Day Mean Deaths','New Confirmed Cases', 'New Deaths'], loc=2)\n",
    "\n",
    "plt.savefig('Images/' + str(today) + ' Daily No. of New Confirmed Cases and Deaths Globally.png')\n",
    "\n",
    "plt.show()"
   ]
  },
  {
   "cell_type": "markdown",
   "metadata": {},
   "source": [
    "#### Top 20 Countries with the Most Confirmed Cases and Deaths"
   ]
  },
  {
   "cell_type": "code",
   "execution_count": null,
   "metadata": {},
   "outputs": [],
   "source": [
    "df_countries = df.set_index('countriesAndTerritories')"
   ]
  },
  {
   "cell_type": "code",
   "execution_count": null,
   "metadata": {},
   "outputs": [],
   "source": [
    "df_countries = df_countries.groupby('countriesAndTerritories').sum()"
   ]
  },
  {
   "cell_type": "code",
   "execution_count": null,
   "metadata": {
    "scrolled": true
   },
   "outputs": [],
   "source": [
    "df_countries = df_countries.sort_values('cases', ascending=True)"
   ]
  },
  {
   "cell_type": "code",
   "execution_count": null,
   "metadata": {
    "scrolled": false
   },
   "outputs": [],
   "source": [
    "#plot data\n",
    "labels = df_countries.index[-20:]\n",
    "Cases = df_countries['cases'][-20:]\n",
    "Deaths = df_countries['deaths'][-20:]\n",
    "\n",
    "x = np.arange(len(labels))  # the label locations\n",
    "width = 0.35  # the width of the bars\n",
    "\n",
    "fig, ax = plt.subplots(figsize=(17, 7))\n",
    "rects1 = ax.bar(x - width/2, Cases, width, label='New Confirmed Cases')\n",
    "rects2 = ax.bar(x + width/2, Deaths, width, label='New Deaths')\n",
    "\n",
    "# Add some text for labels, title and custom x-axis tick labels, etc.\n",
    "ax.set_ylabel('No. of People')\n",
    "ax.set_title('Top 20 Countries with the Most Confirmed Cases and Deaths')\n",
    "ax.set_xticks(x)\n",
    "ax.set_xticklabels(labels, rotation=90)\n",
    "\n",
    "ax.minorticks_on()\n",
    "ax.grid(which='major', linestyle='-', linewidth='0.5', color='black')\n",
    "ax.grid(which='minor', linestyle=':', linewidth='0.5', color='red')\n",
    "ax.legend()\n",
    "\n",
    "\n",
    "def autolabel(rects):\n",
    "    \"\"\"Attach a text label above each bar in *rects*, displaying its height.\"\"\"\n",
    "    for rect in rects:\n",
    "        height = rect.get_height()\n",
    "        ax.annotate('{}'.format(height),\n",
    "                    xy=(rect.get_x() + rect.get_width() / 2, height),\n",
    "                    xytext=(0, 3),  # 3 points vertical offset\n",
    "                    textcoords=\"offset points\",\n",
    "                    ha='center', va='bottom')\n",
    "\n",
    "\n",
    "autolabel(rects1)\n",
    "autolabel(rects2)\n",
    "\n",
    "fig.tight_layout()\n",
    "\n",
    "plt.savefig('Images/' + str(today) + ' Top 20 Countries with the Most Confirmed Cases and Deaths.png')\n",
    "\n",
    "plt.show()"
   ]
  },
  {
   "cell_type": "markdown",
   "metadata": {},
   "source": [
    "  #### Find Latest Data from Yesterday"
   ]
  },
  {
   "cell_type": "code",
   "execution_count": null,
   "metadata": {},
   "outputs": [],
   "source": [
    "yesterday = today - timedelta(days = 1)"
   ]
  },
  {
   "cell_type": "code",
   "execution_count": null,
   "metadata": {},
   "outputs": [],
   "source": [
    "df_yesterday = df.loc[yesterday]\n",
    "df_yesterday.set_index('countriesAndTerritories', inplace=True)"
   ]
  },
  {
   "cell_type": "code",
   "execution_count": null,
   "metadata": {},
   "outputs": [],
   "source": [
    "df_yesterday = df_yesterday.sort_values('cases', ascending=True)"
   ]
  },
  {
   "cell_type": "code",
   "execution_count": null,
   "metadata": {
    "scrolled": true
   },
   "outputs": [],
   "source": [
    "df_yesterday"
   ]
  },
  {
   "cell_type": "markdown",
   "metadata": {},
   "source": [
    "#### Total No. of Confirmed Cases and Deaths Yesterday Globally"
   ]
  },
  {
   "cell_type": "code",
   "execution_count": null,
   "metadata": {},
   "outputs": [],
   "source": [
    "#### Note: I don't feel that this barchart adds anything to the analysis, so I'm discontinuing it as of 24/05"
   ]
  },
  {
   "cell_type": "code",
   "execution_count": null,
   "metadata": {},
   "outputs": [],
   "source": [
    "# df_yesterday.cases.sum()"
   ]
  },
  {
   "cell_type": "code",
   "execution_count": null,
   "metadata": {
    "scrolled": true
   },
   "outputs": [],
   "source": [
    "# df_yesterday.deaths.sum()"
   ]
  },
  {
   "cell_type": "code",
   "execution_count": null,
   "metadata": {
    "scrolled": true
   },
   "outputs": [],
   "source": [
    "# #plot data\n",
    "# labels = ['Yesterday']\n",
    "# Cases = df_yesterday.cases.sum()\n",
    "# Deaths = df_yesterday.deaths.sum()\n",
    "\n",
    "# x = np.arange(len(labels))  # the label locations\n",
    "# # width = 0.35  # the width of the bars\n",
    "\n",
    "# fig, ax = plt.subplots(figsize=(7, 7))\n",
    "# rects1 = ax.bar(x - width/2, Cases, width, label='Total New Confirmed Cases')\n",
    "# rects2 = ax.bar(x + width/2, Deaths, width, label='Total New Deaths')\n",
    "\n",
    "# # Add some text for labels, title and custom x-axis tick labels, etc.\n",
    "# ax.set_ylabel('No. of People')\n",
    "# ax.set_title('Total No. of Confirmed Cases and Deaths Globally Yesterday (' + str(yesterday) + ')')\n",
    "# ax.set_xticks(x)\n",
    "# ax.set_xticklabels(labels)\n",
    "\n",
    "# ax.minorticks_on()\n",
    "# ax.grid(which='major', linestyle='-', linewidth='0.5', color='black')\n",
    "# ax.grid(which='minor', linestyle=':', linewidth='0.5', color='red')\n",
    "# ax.legend()\n",
    "\n",
    "# autolabel(rects1)\n",
    "# autolabel(rects2)\n",
    "\n",
    "# fig.tight_layout()\n",
    "\n",
    "# plt.savefig('Images/' + str(today) + ' Total No. of Confirmed Cases and Deaths Globally Yesterday (' + str(yesterday) + ').png')\n",
    "\n",
    "# plt.show()"
   ]
  },
  {
   "cell_type": "markdown",
   "metadata": {},
   "source": [
    "#### Top 20 Countries with the Most New Confirmed Cases and Deaths Yesterday"
   ]
  },
  {
   "cell_type": "code",
   "execution_count": null,
   "metadata": {
    "scrolled": false
   },
   "outputs": [],
   "source": [
    "#plot data\n",
    "labels = df_yesterday.index[-20:]\n",
    "Cases = df_yesterday['cases'][-20:]\n",
    "Deaths = df_yesterday['deaths'][-20:]\n",
    "\n",
    "x = np.arange(len(labels))  # the label locations\n",
    "width = 0.35  # the width of the bars\n",
    "\n",
    "fig, ax = plt.subplots(figsize=(17, 7))\n",
    "rects1 = ax.bar(x - width/2, Cases, width, label='New Confirmed Cases')\n",
    "rects2 = ax.bar(x + width/2, Deaths, width, label='New Deaths')\n",
    "\n",
    "# Add some text for labels, title and custom x-axis tick labels, etc.\n",
    "ax.set_ylabel('No. of People')\n",
    "ax.set_title('Top 20 Countries with the Most New Confirmed Cases and Deaths Yesterday (' + str(yesterday) + ')')\n",
    "ax.set_xticks(x)\n",
    "ax.set_xticklabels(labels, rotation=90)\n",
    "\n",
    "ax.minorticks_on()\n",
    "ax.grid(which='major', linestyle='-', linewidth='0.5', color='black')\n",
    "ax.grid(which='minor', linestyle=':', linewidth='0.5', color='red')\n",
    "ax.legend()\n",
    "\n",
    "autolabel(rects1)\n",
    "autolabel(rects2)\n",
    "\n",
    "fig.tight_layout()\n",
    "\n",
    "plt.savefig('Images/' + str(today) + ' Top 20 Countries with the Most New Confirmed Cases and Deaths Yesterday ('\n",
    "            + str(yesterday) + ').png')\n",
    "\n",
    "plt.show()"
   ]
  },
  {
   "cell_type": "markdown",
   "metadata": {},
   "source": [
    "#### Examine Cases and Deaths Across EU"
   ]
  },
  {
   "cell_type": "code",
   "execution_count": null,
   "metadata": {},
   "outputs": [],
   "source": [
    "eu_countries = ['Austria', 'Belgium', 'Bulgaria', 'Croatia', 'Cyprus',\n",
    "       'Czech_Republic', 'Denmark', 'Estonia', 'Finland', 'France',\n",
    "       'Germany', 'Greece', 'Hungary', 'Ireland', 'Italy', 'Latvia',\n",
    "       'Lithuania', 'Luxembourg', 'Malta', 'Netherlands', 'Poland',\n",
    "       'Portugal', 'Romania', 'Slovakia', 'Slovenia', 'Spain', 'Sweden']"
   ]
  },
  {
   "cell_type": "code",
   "execution_count": null,
   "metadata": {},
   "outputs": [],
   "source": [
    "df_eu = df[df['countriesAndTerritories'].isin(eu_countries)]"
   ]
  },
  {
   "cell_type": "code",
   "execution_count": null,
   "metadata": {},
   "outputs": [],
   "source": [
    "df_eu"
   ]
  },
  {
   "cell_type": "code",
   "execution_count": null,
   "metadata": {},
   "outputs": [],
   "source": [
    "df_eu = df_eu.loc[:,('cases', 'deaths')]"
   ]
  },
  {
   "cell_type": "code",
   "execution_count": null,
   "metadata": {
    "scrolled": false
   },
   "outputs": [],
   "source": [
    "df_eu = df_eu.groupby('dateRep').sum()\n",
    "df_eu['SDA_Cases'] = df_eu['cases'].rolling(window=7).mean()\n",
    "df_eu['SDA_Deaths'] = df_eu['deaths'].rolling(window=7).mean()"
   ]
  },
  {
   "cell_type": "code",
   "execution_count": null,
   "metadata": {
    "scrolled": true
   },
   "outputs": [],
   "source": [
    "df_eu"
   ]
  },
  {
   "cell_type": "code",
   "execution_count": null,
   "metadata": {},
   "outputs": [],
   "source": [
    "df_eu_sum = df_eu.groupby('dateRep').sum().cumsum()\n",
    "df_eu_sum.drop(['SDA_Cases', 'SDA_Deaths'], axis=1, inplace=True)\n",
    "\n",
    "df_eu_sum"
   ]
  },
  {
   "cell_type": "code",
   "execution_count": null,
   "metadata": {
    "scrolled": false
   },
   "outputs": [],
   "source": [
    "#plot data\n",
    "fig, axs = plt.subplots(2, 1, figsize=(17, 10))\n",
    "axs[0].bar(df_eu.index, df_eu['cases'])\n",
    "axs[0].bar(df_eu.index, df_eu['deaths'])\n",
    "axs[0].plot(df_eu.index, df_eu['SDA_Cases'],color='y', linewidth = 2)\n",
    "axs[0].plot(df_eu.index, df_eu['SDA_Deaths'],color='m', linewidth = 2)\n",
    "\n",
    "#set ticks every week\n",
    "axs[0].xaxis.set_major_locator(mdates.WeekdayLocator())\n",
    "axs[0].xaxis.set_major_formatter(mdates.DateFormatter('%b %d'))\n",
    "\n",
    "#Gridlines\n",
    "axs[0].minorticks_on()\n",
    "axs[0].grid(which='major', linestyle='-', linewidth='0.5', color='black')\n",
    "axs[0].grid(which='minor', linestyle=':', linewidth='0.5', color='red')\n",
    "axs[0].set_ylabel('No. of People')\n",
    "\n",
    "\n",
    "#Titles\n",
    "axs[0].title.set_text(\"Daily No. of New Confirmed Cases and Deaths in the EU\")\n",
    "\n",
    "#Legends\n",
    "axs[0].legend(['7-Day Mean Cases', '7-Day Mean Deaths', 'New Confirmed Cases', 'New Deaths'], loc=2)\n",
    "\n",
    "#Total Cases in EU\n",
    "\n",
    "#plot data\n",
    "axs[1].plot(df_eu_sum.index, df_eu_sum['cases'])\n",
    "axs[1].plot(df_eu_sum.index, df_eu_sum['deaths'])\n",
    "\n",
    "#set ticks every week\n",
    "axs[1].xaxis.set_major_locator(mdates.WeekdayLocator())\n",
    "axs[1].xaxis.set_major_formatter(mdates.DateFormatter('%b %d'))\n",
    "\n",
    "#Gridlines\n",
    "axs[1].minorticks_on()\n",
    "axs[1].grid(which='major', linestyle='-', linewidth='0.5', color='black')\n",
    "axs[1].grid(which='minor', linestyle=':', linewidth='0.5', color='red')\n",
    "axs[1].set_ylabel('No. of People')\n",
    "\n",
    "axs[1].minorticks_on()\n",
    "axs[1].grid(which='major', linestyle='-', linewidth='0.5', color='black')\n",
    "axs[1].grid(which='minor', linestyle=':', linewidth='0.5', color='red')\n",
    "axs[1].set_ylabel('No. of People')\n",
    "\n",
    "\n",
    "#Titles\n",
    "axs[1].title.set_text(\"Total No. of Confirmed Cases and Deaths in the EU\")\n",
    "\n",
    "#Legends\n",
    "axs[1].legend(['Total Confirmed Cases', 'Total Deaths'], loc=2)\n",
    "\n",
    "plt.savefig('Images/'+str(today) + ' Daily & Total No. of Confirmed Cases and Deaths in the EU.png')\n",
    "\n",
    "plt.show()"
   ]
  },
  {
   "cell_type": "markdown",
   "metadata": {},
   "source": [
    "#### Find Data for Specific Countries (e.g. DE, UK, CN) and Compare"
   ]
  },
  {
   "cell_type": "markdown",
   "metadata": {},
   "source": [
    "#### Function: *Daily No. of New Confirmed Cases and Deaths in X & Y*"
   ]
  },
  {
   "cell_type": "code",
   "execution_count": null,
   "metadata": {},
   "outputs": [],
   "source": [
    "def compare_daily_cases(country1, country2):\n",
    "    df_sub1 = df.loc[df['geoId'] == country1]\n",
    "    df_sub2 = df.loc[df['geoId'] == country2]\n",
    "    df_sub1['SDA_Cases'] = df_sub1['cases'].rolling(window=7).mean()\n",
    "    df_sub1['SDA_Deaths'] = df_sub1['deaths'].rolling(window=7).mean()\n",
    "    df_sub2['SDA_Cases'] = df_sub2['cases'].rolling(window=7).mean()\n",
    "    df_sub2['SDA_Deaths'] = df_sub2['deaths'].rolling(window=7).mean()\n",
    "    \n",
    "\n",
    "    #Plot Data for country1\n",
    "    fig, axs = plt.subplots(2, 1, figsize=(17, 10))\n",
    "    axs[0].bar(df_sub1.index, df_sub1['cases'])\n",
    "    axs[0].bar(df_sub1.index, df_sub1['deaths'])\n",
    "    axs[0].plot(df_sub1.index, df_sub1['SDA_Cases'],color='y', linewidth = 2)\n",
    "    axs[0].plot(df_sub1.index, df_sub1['SDA_Deaths'],color='m', linewidth = 2)\n",
    "    \n",
    "\n",
    "    #Plot Data for country2\n",
    "    axs[1].bar(df_sub2.index, df_sub2['cases'])\n",
    "    axs[1].bar(df_sub2.index, df_sub2['deaths'])\n",
    "    axs[1].plot(df_sub2.index, df_sub2['SDA_Cases'],color='y', linewidth = 2)\n",
    "    axs[1].plot(df_sub2.index, df_sub2['SDA_Deaths'],color='m', linewidth = 2)\n",
    "\n",
    "\n",
    "    #set ticks every week\n",
    "    axs[0].xaxis.set_major_locator(mdates.WeekdayLocator())\n",
    "    axs[0].xaxis.set_major_formatter(mdates.DateFormatter('%b %d'))\n",
    "    axs[1].xaxis.set_major_locator(mdates.WeekdayLocator())\n",
    "    axs[1].xaxis.set_major_formatter(mdates.DateFormatter('%b %d'))\n",
    "\n",
    "    #Gridlines\n",
    "    axs[0].minorticks_on()\n",
    "    axs[0].grid(which='major', linestyle='-', linewidth='0.5', color='black')\n",
    "    axs[0].grid(which='minor', linestyle=':', linewidth='0.5', color='red')\n",
    "    axs[0].set_ylabel('No. of People')\n",
    "\n",
    "    axs[1].minorticks_on()\n",
    "    axs[1].grid(which='major', linestyle='-', linewidth='0.5', color='black')\n",
    "    axs[1].grid(which='minor', linestyle=':', linewidth='0.5', color='red')\n",
    "    axs[1].set_ylabel('No. of People')\n",
    "\n",
    "\n",
    "    #Titles\n",
    "    title1 = df_sub1['countriesAndTerritories'].unique()[0]\n",
    "    title2 = df_sub2['countriesAndTerritories'].unique()[0]\n",
    "    axs[0].title.set_text(\"Daily No. of New Confirmed Cases and Deaths in \" + title1)\n",
    "    axs[1].title.set_text(\"Daily No. of New Confirmed Cases and Deaths in \" + title2)\n",
    "\n",
    "    #Legends\n",
    "    axs[0].legend(['7-Day Mean Cases', '7-Day Mean Deaths', 'New Confirmed Cases', 'New Deaths'], loc=2)\n",
    "    axs[1].legend(['7-Day Mean Cases', '7-Day Mean Deaths', 'New Confirmed Cases', 'New Deaths'], loc=2)\n",
    "\n",
    "    plt.savefig('Images/' + str(today) + ' Daily No. of New Confirmed Cases and Deaths in ' + title1 + ' & ' + title2 + '.png')\n",
    "\n",
    "    plt.show()"
   ]
  },
  {
   "cell_type": "markdown",
   "metadata": {},
   "source": [
    "#### Function: *Total No. of Confirmed Cases and Deaths in X & Y*"
   ]
  },
  {
   "cell_type": "code",
   "execution_count": null,
   "metadata": {
    "scrolled": true
   },
   "outputs": [],
   "source": [
    "def compare_total_cases(country1, country2):\n",
    "    \n",
    "    df_sub1 = df.loc[df['geoId'] == country1]\n",
    "    df_sub2 = df.loc[df['geoId'] == country2]\n",
    "    \n",
    "    df_sub1['Total_Cases'] = df_sub1.loc[:,('cases')].cumsum()\n",
    "    df_sub1['Total_Deaths'] = df_sub1.loc[:,('deaths')].cumsum()\n",
    "\n",
    "    df_sub2['Total_Cases'] = df_sub2.loc[:,('cases')].cumsum()\n",
    "    df_sub2['Total_Deaths'] = df_sub2.loc[:,('deaths')].cumsum()\n",
    "\n",
    "\n",
    "    #plot data\n",
    "    fig, axs = plt.subplots(2, 1, figsize=(17, 10))\n",
    "    axs[0].plot(df_sub1.index, df_sub1['Total_Cases'])\n",
    "    axs[0].plot(df_sub1.index, df_sub1['Total_Deaths'])\n",
    "\n",
    "    #Set \n",
    "    axs[1].plot(df_sub2.index, df_sub2['Total_Cases'])\n",
    "    axs[1].plot(df_sub2.index, df_sub2['Total_Deaths'])\n",
    "\n",
    "    #set ticks every week\n",
    "    axs[0].xaxis.set_major_locator(mdates.WeekdayLocator())\n",
    "    axs[0].xaxis.set_major_formatter(mdates.DateFormatter('%b %d'))\n",
    "    axs[1].xaxis.set_major_locator(mdates.WeekdayLocator())\n",
    "    axs[1].xaxis.set_major_formatter(mdates.DateFormatter('%b %d'))\n",
    "\n",
    "    #Gridlines\n",
    "    axs[0].minorticks_on()\n",
    "    axs[0].grid(which='major', linestyle='-', linewidth='0.5', color='black')\n",
    "    axs[0].grid(which='minor', linestyle=':', linewidth='0.5', color='red')\n",
    "    axs[0].set_ylabel('No. of People')\n",
    "\n",
    "    axs[1].minorticks_on()\n",
    "    axs[1].grid(which='major', linestyle='-', linewidth='0.5', color='black')\n",
    "    axs[1].grid(which='minor', linestyle=':', linewidth='0.5', color='red')\n",
    "    axs[1].set_ylabel('No. of People')\n",
    "\n",
    "\n",
    "    #Titles\n",
    "    title1 = df_sub1['countriesAndTerritories'].unique()[0]\n",
    "    title2 = df_sub2['countriesAndTerritories'].unique()[0]\n",
    "    axs[0].title.set_text(\"Total No. of Confirmed Cases and Deaths in \" + title1)\n",
    "    axs[1].title.set_text(\"Total No. of Confirmed Cases and Deaths in \" + title2)\n",
    "\n",
    "    #Legends\n",
    "    axs[0].legend(['Total Confirmed Cases', 'Total Deaths'], loc=2)\n",
    "    axs[1].legend(['Total Confirmed Cases', 'Total Deaths'], loc=2)\n",
    "\n",
    "    plt.savefig('Images/'+str(today) + ' Total No. of Confirmed Cases and Deaths in ' + title1 + ' & ' + title2 + '.png')\n",
    "\n",
    "    plt.show()"
   ]
  },
  {
   "cell_type": "markdown",
   "metadata": {},
   "source": [
    "#### Compare Charts"
   ]
  },
  {
   "cell_type": "code",
   "execution_count": null,
   "metadata": {},
   "outputs": [],
   "source": [
    "#BR-RU, CN-IR, DE-FR, IT-ES, IL-TR, JP-KR, IN-PK, US-UK, SE-NL\n",
    "\n",
    "country1 = 'SE'\n",
    "country2 = 'UK'"
   ]
  },
  {
   "cell_type": "code",
   "execution_count": null,
   "metadata": {
    "scrolled": false
   },
   "outputs": [],
   "source": [
    "compare_daily_cases(country1,country2)\n",
    "compare_total_cases(country1,country2)"
   ]
  },
  {
   "cell_type": "code",
   "execution_count": null,
   "metadata": {},
   "outputs": [],
   "source": []
  }
 ],
 "metadata": {
  "kernelspec": {
   "display_name": "Python 3",
   "language": "python",
   "name": "python3"
  },
  "language_info": {
   "codemirror_mode": {
    "name": "ipython",
    "version": 3
   },
   "file_extension": ".py",
   "mimetype": "text/x-python",
   "name": "python",
   "nbconvert_exporter": "python",
   "pygments_lexer": "ipython3",
   "version": "3.7.6"
  }
 },
 "nbformat": 4,
 "nbformat_minor": 4
}
